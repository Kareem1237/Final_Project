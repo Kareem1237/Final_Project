{
 "cells": [
  {
   "cell_type": "code",
   "execution_count": 1,
   "id": "52a89fac",
   "metadata": {},
   "outputs": [
    {
     "name": "stderr",
     "output_type": "stream",
     "text": [
      "[nltk_data] Downloading package punkt to\n",
      "[nltk_data]     C:\\Users\\Kareem\\AppData\\Roaming\\nltk_data...\n",
      "[nltk_data]   Package punkt is already up-to-date!\n",
      "[nltk_data] Downloading package wordnet to\n",
      "[nltk_data]     C:\\Users\\Kareem\\AppData\\Roaming\\nltk_data...\n",
      "[nltk_data]   Package wordnet is already up-to-date!\n",
      "[nltk_data] Downloading package omw-1.4 to\n",
      "[nltk_data]     C:\\Users\\Kareem\\AppData\\Roaming\\nltk_data...\n",
      "[nltk_data]   Package omw-1.4 is already up-to-date!\n"
     ]
    },
    {
     "data": {
      "text/plain": [
       "True"
      ]
     },
     "execution_count": 1,
     "metadata": {},
     "output_type": "execute_result"
    }
   ],
   "source": [
    "import pandas as pd\n",
    "from nltk.tokenize import word_tokenize\n",
    "import numpy as np\n",
    "import regex as re\n",
    "from nltk.stem import PorterStemmer \n",
    "from nltk.stem import WordNetLemmatizer \n",
    "import nltk\n",
    "from wordcloud import WordCloud, STOPWORDS\n",
    "import pycountry\n",
    "\n",
    "nltk.download('punkt')\n",
    "nltk.download('wordnet')\n",
    "nltk.download('omw-1.4')"
   ]
  },
  {
   "cell_type": "code",
   "execution_count": 7,
   "id": "6319fca4",
   "metadata": {},
   "outputs": [
    {
     "data": {
      "text/plain": [
       "Index(['Title', 'Risk', 'URL'], dtype='object')"
      ]
     },
     "execution_count": 7,
     "metadata": {},
     "output_type": "execute_result"
    }
   ],
   "source": [
    "df=pd.read_csv('Desktop/sources.csv')\n",
    "#df['cleaned_title']=df['Title']\n",
    "df.drop(columns='Unnamed: 0',axis=1,inplace=True)\n",
    "df.columns"
   ]
  },
  {
   "cell_type": "code",
   "execution_count": 8,
   "id": "389f0f1d",
   "metadata": {},
   "outputs": [
    {
     "data": {
      "text/plain": [
       "0    Inflation 'collapse' will spark big stock mark...\n",
       "1    Here's what's in Biden framework to regulate c...\n",
       "2    Ether falls after the smart contracts network ...\n",
       "3    FedEx CEO has really lost credibility here, sa...\n",
       "4    Ethereum's massive software upgrade just went ...\n",
       "Name: cleaned_title, dtype: object"
      ]
     },
     "execution_count": 8,
     "metadata": {},
     "output_type": "execute_result"
    }
   ],
   "source": [
    "df.head()\n",
    "df['cleaned_title']=df['Title']\n",
    "df=df.drop_duplicates(keep='first')\n",
    "len(df)\n",
    "df['cleaned_title'].head()"
   ]
  },
  {
   "cell_type": "code",
   "execution_count": 9,
   "id": "b8b6a742",
   "metadata": {},
   "outputs": [],
   "source": [
    "alpha2=[country.alpha_2 for country in pycountry.countries ]\n",
    "alpha3=[country.alpha_3 for country in pycountry.countries ]\n",
    "country_name=[country.name for country in pycountry.countries ]\n"
   ]
  },
  {
   "cell_type": "code",
   "execution_count": 10,
   "id": "c5c1a598",
   "metadata": {},
   "outputs": [],
   "source": [
    "def clean_up(s):\n",
    "    \"\"\"\n",
    "    Cleans up numbers and special characters from a string.\n",
    "    \n",
    "    Args:\n",
    "        s: The string to be cleaned up.\n",
    "\n",
    "    Returns:\n",
    "        A string that has been cleaned up.\n",
    "    \"\"\"\n",
    "    \n",
    "    \n",
    "    \n",
    "    s= re.sub('[0-9]',\"\", s)\n",
    "    for x in alpha2:\n",
    "        s= re.sub(x, \"\", s)\n",
    "    for y in alpha3:\n",
    "        s= re.sub(y, \"\", s)\n",
    "    for j in country_name:\n",
    "        s= re.sub(j, \"\", s)\n",
    "    \n",
    "    s= re.sub('[|](.*)', \"\", s)\n",
    "    s= re.sub('[()]', \"\", s)\n",
    "    s= re.sub('[/[/]]', \"\", s)\n",
    "    s= re.sub(\"[-,#,',@,.,;,!,?,$,%,-,:,—,&,’,–]\", \"\", s)\n",
    "    \n",
    "    s=s.lstrip()\n",
    "    s=s.rstrip()\n",
    "    return s"
   ]
  },
  {
   "cell_type": "code",
   "execution_count": 11,
   "id": "f0c3bee5",
   "metadata": {},
   "outputs": [],
   "source": [
    "df['cleaned_title']=df['cleaned_title'].apply(clean_up)"
   ]
  },
  {
   "cell_type": "code",
   "execution_count": 13,
   "id": "e7cc2f57",
   "metadata": {},
   "outputs": [
    {
     "data": {
      "text/plain": [
       "0    Inflation collapse will spark big stock market...\n",
       "1    Heres whats in Biden framework to regulate crypto\n",
       "2    Ether falls after the smart contracts network ...\n",
       "3    FedEx CEO has really lost credibility here say...\n",
       "4    Ethereums massive software upgrade just went l...\n",
       "Name: cleaned_title, dtype: object"
      ]
     },
     "execution_count": 13,
     "metadata": {},
     "output_type": "execute_result"
    }
   ],
   "source": [
    "df['cleaned_title'].head()"
   ]
  },
  {
   "cell_type": "code",
   "execution_count": 14,
   "id": "a78a1e1b",
   "metadata": {},
   "outputs": [],
   "source": [
    "def tokenize(s):\n",
    "    \"\"\"\n",
    "    Tokenize a string.\n",
    "\n",
    "    Args:\n",
    "        s: String to be tokenized.\n",
    "\n",
    "    Returns:\n",
    "        A list of words as the result of tokenization.\n",
    "    \"\"\"\n",
    "    return word_tokenize(s)"
   ]
  },
  {
   "cell_type": "code",
   "execution_count": 15,
   "id": "8bb89356",
   "metadata": {},
   "outputs": [],
   "source": [
    "df['cleaned_title']=df['cleaned_title'].apply(tokenize)"
   ]
  },
  {
   "cell_type": "code",
   "execution_count": 16,
   "id": "30283e96",
   "metadata": {},
   "outputs": [
    {
     "data": {
      "text/plain": [
       "0    [Inflation, collapse, will, spark, big, stock,...\n",
       "1    [Heres, whats, in, Biden, framework, to, regul...\n",
       "2    [Ether, falls, after, the, smart, contracts, n...\n",
       "3    [FedEx, CEO, has, really, lost, credibility, h...\n",
       "4    [Ethereums, massive, software, upgrade, just, ...\n",
       "Name: cleaned_title, dtype: object"
      ]
     },
     "execution_count": 16,
     "metadata": {},
     "output_type": "execute_result"
    }
   ],
   "source": [
    "df['cleaned_title'].head()"
   ]
  },
  {
   "cell_type": "code",
   "execution_count": 17,
   "id": "81d41df0",
   "metadata": {},
   "outputs": [],
   "source": [
    "def remove_cap(s):\n",
    "    x=[]\n",
    "    for i in range(len(s)):\n",
    "        if (s[i].istitle()== False | s[i].isupper()==False) & (len(s[i])>1):\n",
    "            x.append(s[i])\n",
    "    return x"
   ]
  },
  {
   "cell_type": "code",
   "execution_count": 18,
   "id": "811d64d4",
   "metadata": {},
   "outputs": [],
   "source": [
    "df['cleaned_title']=df['cleaned_title'].apply(remove_cap)"
   ]
  },
  {
   "cell_type": "code",
   "execution_count": 19,
   "id": "4fe7ba57",
   "metadata": {},
   "outputs": [
    {
     "data": {
      "text/plain": [
       "0    [collapse, will, spark, big, stock, market, ga...\n",
       "1         [whats, in, framework, to, regulate, crypto]\n",
       "2    [falls, after, the, smart, contracts, network,...\n",
       "3    [FedEx, has, really, lost, credibility, here, ...\n",
       "4    [massive, software, upgrade, just, went, live,...\n",
       "Name: cleaned_title, dtype: object"
      ]
     },
     "execution_count": 19,
     "metadata": {},
     "output_type": "execute_result"
    }
   ],
   "source": [
    "df['cleaned_title'].head()"
   ]
  },
  {
   "cell_type": "code",
   "execution_count": 20,
   "id": "d70cc60b",
   "metadata": {},
   "outputs": [],
   "source": [
    "def bicap_check(s):\n",
    "    sum_cap=0\n",
    "    for i in s:\n",
    "        if i.isupper():\n",
    "            sum_cap+=1\n",
    "    if sum_cap>=2:\n",
    "        return True\n",
    "    else:\n",
    "        return False"
   ]
  },
  {
   "cell_type": "code",
   "execution_count": 21,
   "id": "27f38906",
   "metadata": {},
   "outputs": [],
   "source": [
    "def remove_bicap(s):\n",
    "    x=[]\n",
    "    for i in range(len(s)):\n",
    "        if bicap_check(s[i])==False:\n",
    "            x.append(s[i])\n",
    "    return x"
   ]
  },
  {
   "cell_type": "code",
   "execution_count": 22,
   "id": "2ccd3b8c",
   "metadata": {},
   "outputs": [],
   "source": [
    "df['cleaned_title']=df['cleaned_title'].apply(remove_bicap)"
   ]
  },
  {
   "cell_type": "code",
   "execution_count": 23,
   "id": "2cf1c8b0",
   "metadata": {},
   "outputs": [],
   "source": [
    "ps = PorterStemmer()\n",
    "lemmatizer = WordNetLemmatizer()\n",
    "def stem_and_lemmatize(l):\n",
    "    \"\"\"\n",
    "    Perform stemming and lemmatization on a list of words.\n",
    "\n",
    "    Args:\n",
    "        l: A list of strings.\n",
    "\n",
    "    Returns:\n",
    "        A list of strings after being stemmed and lemmatized.\n",
    "    \"\"\"\n",
    "    for i in range(len(l)):\n",
    "        l[i]=ps.stem(l[i])\n",
    "        l[i]=lemmatizer.lemmatize(l[i])\n",
    "    return l"
   ]
  },
  {
   "cell_type": "code",
   "execution_count": 24,
   "id": "40cf8130",
   "metadata": {},
   "outputs": [],
   "source": [
    "df['cleaned_title']=df['cleaned_title'].apply(stem_and_lemmatize)"
   ]
  },
  {
   "cell_type": "code",
   "execution_count": 25,
   "id": "1b08f304",
   "metadata": {},
   "outputs": [
    {
     "data": {
      "text/plain": [
       "0     [collaps, will, spark, big, stock, market, gain]\n",
       "1             [what, in, framework, to, regul, crypto]\n",
       "2    [fall, after, the, smart, contract, network, c...\n",
       "3               [ha, realli, lost, credibl, here, say]\n",
       "4    [massiv, softwar, upgrad, just, went, live, he...\n",
       "Name: cleaned_title, dtype: object"
      ]
     },
     "execution_count": 25,
     "metadata": {},
     "output_type": "execute_result"
    }
   ],
   "source": [
    "df['cleaned_title'].head()"
   ]
  },
  {
   "cell_type": "code",
   "execution_count": 26,
   "id": "2bb8140b",
   "metadata": {},
   "outputs": [
    {
     "data": {
      "text/plain": [
       "{'a',\n",
       " 'about',\n",
       " 'above',\n",
       " 'after',\n",
       " 'again',\n",
       " 'against',\n",
       " 'all',\n",
       " 'also',\n",
       " 'am',\n",
       " 'an',\n",
       " 'and',\n",
       " 'any',\n",
       " 'are',\n",
       " \"aren't\",\n",
       " 'as',\n",
       " 'at',\n",
       " 'be',\n",
       " 'because',\n",
       " 'been',\n",
       " 'before',\n",
       " 'being',\n",
       " 'below',\n",
       " 'between',\n",
       " 'both',\n",
       " 'but',\n",
       " 'by',\n",
       " 'can',\n",
       " \"can't\",\n",
       " 'cannot',\n",
       " 'com',\n",
       " 'could',\n",
       " \"couldn't\",\n",
       " 'did',\n",
       " \"didn't\",\n",
       " 'do',\n",
       " 'does',\n",
       " \"doesn't\",\n",
       " 'doing',\n",
       " \"don't\",\n",
       " 'down',\n",
       " 'during',\n",
       " 'each',\n",
       " 'else',\n",
       " 'ever',\n",
       " 'few',\n",
       " 'for',\n",
       " 'from',\n",
       " 'further',\n",
       " 'get',\n",
       " 'had',\n",
       " \"hadn't\",\n",
       " 'has',\n",
       " \"hasn't\",\n",
       " 'have',\n",
       " \"haven't\",\n",
       " 'having',\n",
       " 'he',\n",
       " \"he'd\",\n",
       " \"he'll\",\n",
       " \"he's\",\n",
       " 'hence',\n",
       " 'her',\n",
       " 'here',\n",
       " \"here's\",\n",
       " 'hers',\n",
       " 'herself',\n",
       " 'him',\n",
       " 'himself',\n",
       " 'his',\n",
       " 'how',\n",
       " \"how's\",\n",
       " 'however',\n",
       " 'http',\n",
       " 'i',\n",
       " \"i'd\",\n",
       " \"i'll\",\n",
       " \"i'm\",\n",
       " \"i've\",\n",
       " 'if',\n",
       " 'in',\n",
       " 'into',\n",
       " 'is',\n",
       " \"isn't\",\n",
       " 'it',\n",
       " \"it's\",\n",
       " 'its',\n",
       " 'itself',\n",
       " 'just',\n",
       " 'k',\n",
       " \"let's\",\n",
       " 'like',\n",
       " 'me',\n",
       " 'more',\n",
       " 'most',\n",
       " \"mustn't\",\n",
       " 'my',\n",
       " 'myself',\n",
       " 'no',\n",
       " 'nor',\n",
       " 'not',\n",
       " 'of',\n",
       " 'off',\n",
       " 'on',\n",
       " 'once',\n",
       " 'only',\n",
       " 'or',\n",
       " 'other',\n",
       " 'otherwise',\n",
       " 'ought',\n",
       " 'our',\n",
       " 'ours',\n",
       " 'ourselves',\n",
       " 'out',\n",
       " 'over',\n",
       " 'own',\n",
       " 'r',\n",
       " 'same',\n",
       " 'shall',\n",
       " \"shan't\",\n",
       " 'she',\n",
       " \"she'd\",\n",
       " \"she'll\",\n",
       " \"she's\",\n",
       " 'should',\n",
       " \"shouldn't\",\n",
       " 'since',\n",
       " 'so',\n",
       " 'some',\n",
       " 'such',\n",
       " 'than',\n",
       " 'that',\n",
       " \"that's\",\n",
       " 'the',\n",
       " 'their',\n",
       " 'theirs',\n",
       " 'them',\n",
       " 'themselves',\n",
       " 'then',\n",
       " 'there',\n",
       " \"there's\",\n",
       " 'therefore',\n",
       " 'these',\n",
       " 'they',\n",
       " \"they'd\",\n",
       " \"they'll\",\n",
       " \"they're\",\n",
       " \"they've\",\n",
       " 'this',\n",
       " 'those',\n",
       " 'through',\n",
       " 'to',\n",
       " 'too',\n",
       " 'under',\n",
       " 'until',\n",
       " 'up',\n",
       " 'very',\n",
       " 'was',\n",
       " \"wasn't\",\n",
       " 'we',\n",
       " \"we'd\",\n",
       " \"we'll\",\n",
       " \"we're\",\n",
       " \"we've\",\n",
       " 'were',\n",
       " \"weren't\",\n",
       " 'what',\n",
       " \"what's\",\n",
       " 'when',\n",
       " \"when's\",\n",
       " 'where',\n",
       " \"where's\",\n",
       " 'which',\n",
       " 'while',\n",
       " 'who',\n",
       " \"who's\",\n",
       " 'whom',\n",
       " 'why',\n",
       " \"why's\",\n",
       " 'with',\n",
       " \"won't\",\n",
       " 'would',\n",
       " \"wouldn't\",\n",
       " 'www',\n",
       " 'you',\n",
       " \"you'd\",\n",
       " \"you'll\",\n",
       " \"you're\",\n",
       " \"you've\",\n",
       " 'your',\n",
       " 'yours',\n",
       " 'yourself',\n",
       " 'yourselves'}"
      ]
     },
     "execution_count": 26,
     "metadata": {},
     "output_type": "execute_result"
    }
   ],
   "source": [
    "stop=STOPWORDS\n",
    "stop"
   ]
  },
  {
   "cell_type": "code",
   "execution_count": 27,
   "id": "caeeb092",
   "metadata": {},
   "outputs": [],
   "source": [
    "def remove_stopwords(l):\n",
    "    \"\"\"\n",
    "    Remove English stopwords from a list of strings.\n",
    "\n",
    "    Args:\n",
    "        l: A list of strings.\n",
    "\n",
    "    Returns:\n",
    "        A list of strings after stop words are removed.\n",
    "    \"\"\"\n",
    "    for word in stop:\n",
    "        while word in l:\n",
    "            l.remove(word)\n",
    "    return l"
   ]
  },
  {
   "cell_type": "code",
   "execution_count": 28,
   "id": "a8c9bbcb",
   "metadata": {},
   "outputs": [],
   "source": [
    "df['cleaned_title']=df['cleaned_title'].apply(remove_stopwords)"
   ]
  },
  {
   "cell_type": "code",
   "execution_count": 29,
   "id": "a2051ed8",
   "metadata": {},
   "outputs": [],
   "source": [
    "def joining(s):\n",
    "    s=\" \".join(s)\n",
    "    return s"
   ]
  },
  {
   "cell_type": "code",
   "execution_count": 30,
   "id": "93c9780a",
   "metadata": {},
   "outputs": [],
   "source": [
    "df['cleaned_title']=df['cleaned_title'].apply(joining)"
   ]
  },
  {
   "cell_type": "code",
   "execution_count": 31,
   "id": "976577e7",
   "metadata": {},
   "outputs": [
    {
     "data": {
      "text/plain": [
       "0    collaps will spark big stock market gain\n",
       "1                      framework regul crypto\n",
       "2    fall smart contract network complet merg\n",
       "3                  ha realli lost credibl say\n",
       "4         massiv softwar upgrad went live doe\n",
       "Name: cleaned_title, dtype: object"
      ]
     },
     "execution_count": 31,
     "metadata": {},
     "output_type": "execute_result"
    }
   ],
   "source": [
    "df['cleaned_title'].head()"
   ]
  },
  {
   "cell_type": "code",
   "execution_count": 252,
   "id": "16a8e5ee",
   "metadata": {},
   "outputs": [],
   "source": [
    "df.drop(df.loc[df['cleaned_title']==''].index,inplace=True)"
   ]
  },
  {
   "cell_type": "code",
   "execution_count": 255,
   "id": "a1a54c27",
   "metadata": {},
   "outputs": [],
   "source": [
    "df.to_csv('Desktop/cleaned_data.csv')"
   ]
  },
  {
   "cell_type": "code",
   "execution_count": null,
   "id": "3d2ffa37",
   "metadata": {},
   "outputs": [],
   "source": []
  },
  {
   "cell_type": "code",
   "execution_count": null,
   "id": "7c61b3f5",
   "metadata": {},
   "outputs": [],
   "source": []
  }
 ],
 "metadata": {
  "kernelspec": {
   "display_name": "Python 3 (ipykernel)",
   "language": "python",
   "name": "python3"
  },
  "language_info": {
   "codemirror_mode": {
    "name": "ipython",
    "version": 3
   },
   "file_extension": ".py",
   "mimetype": "text/x-python",
   "name": "python",
   "nbconvert_exporter": "python",
   "pygments_lexer": "ipython3",
   "version": "3.9.12"
  }
 },
 "nbformat": 4,
 "nbformat_minor": 5
}
